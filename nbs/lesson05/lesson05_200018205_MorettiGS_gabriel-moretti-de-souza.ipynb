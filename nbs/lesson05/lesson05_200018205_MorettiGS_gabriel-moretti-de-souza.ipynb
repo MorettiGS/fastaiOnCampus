{
 "cells": [
  {
   "cell_type": "markdown",
   "metadata": {},
   "source": [
    "# Lesson/Article 05 - Fake Jobs Predictor\n",
    "\n",
    "**Author: Gabriel Moretti de Souza - 200018205**\n",
    "\n",
    "**Author's GitHub username: MorettiGS**\n",
    "\n",
    "## HuggingFace\n",
    "\n",
    "The following is the link for the HuggingFace space regarding this notebook:\n",
    "\n",
    "[HugginFace - FakeJobPost](https://huggingface.co/spaces/MorettiGS/FakeJobPost)\n",
    "\n",
    "## Objective\n",
    "\n",
    "In this article, we are going through the creation and usage of a **identifier** using Artificial Intelligence, with the main purpose of training it to determine if a job post is fake or not.\n",
    "\n",
    "For the creation of said predictor, we will be creating a neural network capable of identifying fake jobs based on 95 columns of data from the kaggle dataset [Fake/Real Job Posting in Nigeria](https://www.kaggle.com/datasets/oyelajairemide/fakereal-job-posting-in-nigeria).\n",
    "\n",
    "This search and results could be useful, in a real life situation, when trying to avoid professional scams or frauds.\n",
    "\n",
    "## Pre-requisites\n",
    "\n",
    "Previous downloads that were necessary for all dependencies used on the notebook:"
   ]
  },
  {
   "cell_type": "code",
   "execution_count": null,
   "metadata": {},
   "outputs": [],
   "source": [
    "# !pip install --upgrade pip setuptools wheel\n",
    "# !pip install p5py\n",
    "# !pip install PEP517\n",
    "# !pip install gcc\n",
    "# !pip install pandas\n",
    "# !pip install kaggle\n",
    "# !pip install opendatasets\n",
    "# !pip install torch\n",
    "# !pip install fastai"
   ]
  },
  {
   "cell_type": "markdown",
   "metadata": {},
   "source": [
    "Before going any further, it is essential that we get the necessary dependencies for the AI training, and these can be found in the Python libraries of **pandas** and **numpy**.\n",
    "They can be imported with the following python code:"
   ]
  },
  {
   "cell_type": "code",
   "execution_count": 5,
   "metadata": {},
   "outputs": [],
   "source": [
    "import opendatasets as od # Responsible for dataset download\n",
    "import numpy as np # Responsible for linear algebra\n",
    "import pandas as pd # Responsible for data processing and manipulation"
   ]
  },
  {
   "cell_type": "markdown",
   "metadata": {},
   "source": [
    "## Data\n",
    "\n",
    "Now we can work on the data that will be used on this AI training. As said before, the data will be obtained by the use of the kaggle dataset. We can download it as follows, using the username and key from kaggle:"
   ]
  },
  {
   "cell_type": "code",
   "execution_count": 66,
   "metadata": {},
   "outputs": [
    {
     "name": "stdout",
     "output_type": "stream",
     "text": [
      "Please provide your Kaggle credentials to download this dataset. Learn more: http://bit.ly/kaggle-creds\n",
      "Your Kaggle username: gmorettis\n",
      "Your Kaggle Key: ········\n",
      "Downloading fakereal-job-posting-in-nigeria.zip to ./fakereal-job-posting-in-nigeria\n"
     ]
    },
    {
     "name": "stderr",
     "output_type": "stream",
     "text": [
      "100%|██████████| 29.0k/29.0k [00:00<00:00, 361kB/s]"
     ]
    },
    {
     "name": "stdout",
     "output_type": "stream",
     "text": [
      "\n"
     ]
    },
    {
     "name": "stderr",
     "output_type": "stream",
     "text": [
      "\n"
     ]
    }
   ],
   "source": [
    "od.download(\n",
    "    \"https://www.kaggle.com/datasets/oyelajairemide/fakereal-job-posting-in-nigeria\")\n",
    "\n",
    "# Downloading it by kaggle username and key"
   ]
  },
  {
   "cell_type": "markdown",
   "metadata": {},
   "source": [
    "Then, the dataset's columns can be seen organized as follows:"
   ]
  },
  {
   "cell_type": "code",
   "execution_count": 71,
   "metadata": {},
   "outputs": [
    {
     "data": {
      "text/html": [
       "<div>\n",
       "<style scoped>\n",
       "    .dataframe tbody tr th:only-of-type {\n",
       "        vertical-align: middle;\n",
       "    }\n",
       "\n",
       "    .dataframe tbody tr th {\n",
       "        vertical-align: top;\n",
       "    }\n",
       "\n",
       "    .dataframe thead th {\n",
       "        text-align: right;\n",
       "    }\n",
       "</style>\n",
       "<table border=\"1\" class=\"dataframe\">\n",
       "  <thead>\n",
       "    <tr style=\"text-align: right;\">\n",
       "      <th></th>\n",
       "      <th>job_title</th>\n",
       "      <th>company_name</th>\n",
       "      <th>company_desc</th>\n",
       "      <th>job_desc</th>\n",
       "      <th>job_requirement</th>\n",
       "      <th>salary</th>\n",
       "      <th>location</th>\n",
       "      <th>employment_type</th>\n",
       "      <th>department</th>\n",
       "      <th>label</th>\n",
       "    </tr>\n",
       "  </thead>\n",
       "  <tbody>\n",
       "    <tr>\n",
       "      <th>0</th>\n",
       "      <td>Accountant</td>\n",
       "      <td>Equity Model Limited</td>\n",
       "      <td>Accounting, Auditing &amp; Finance</td>\n",
       "      <td>Compiling, analyzing, and reporting financial data.</td>\n",
       "      <td>This position is open preferably to a male candidate,Minimum academic qualification preferably in accounting,Candidates aged between 22 - 30 years,Ability to write clearly and help with word processing when necessary.,A warm personality and strong communication skills.,Ability to work well under limited supervision.,Great communication and writing skills.,Hands-on experience in managing time and personnel.</td>\n",
       "      <td>75,000 - 150,000</td>\n",
       "      <td>Abuja</td>\n",
       "      <td>Full Time</td>\n",
       "      <td>Law &amp; Compliance</td>\n",
       "      <td>0</td>\n",
       "    </tr>\n",
       "    <tr>\n",
       "      <th>1</th>\n",
       "      <td>Content Writer</td>\n",
       "      <td>CLINTON FUND (CF)</td>\n",
       "      <td>Management &amp; Business Development</td>\n",
       "      <td>Creating, improving and maintaining content to achieve our business goals. Your duties will also include sharing content to raise brand awareness and monitoring web traffic and metrics to identify best practices.</td>\n",
       "      <td>Bachelor's degree in Journalism, English, Communications or related field.</td>\n",
       "      <td>60,000 - 100,000</td>\n",
       "      <td>Lagos</td>\n",
       "      <td>Full Time</td>\n",
       "      <td>Content Writing</td>\n",
       "      <td>1</td>\n",
       "    </tr>\n",
       "    <tr>\n",
       "      <th>2</th>\n",
       "      <td>Accountant</td>\n",
       "      <td>Schleez Nigeria Limited</td>\n",
       "      <td>Accounting, Auditing &amp; Finance</td>\n",
       "      <td>Managing financial transactions, preparing financial reports, and providing financial advice to clients.</td>\n",
       "      <td>Minimum of Bachelor's degree in Accounting or related field, Professional certification such as ACCA or ICAN, Proven experience as an Accountant, Strong computer skills, including proficiency in Excel, Excellent communication and interpersonal skills</td>\n",
       "      <td>Negotiable</td>\n",
       "      <td>First Floor, Left Wing, No. 49, Olowu Street, Off Moboloji Bank, Anthony Way, Ikeja, Lagos State</td>\n",
       "      <td>Full-time</td>\n",
       "      <td>Accounting</td>\n",
       "      <td>1</td>\n",
       "    </tr>\n",
       "    <tr>\n",
       "      <th>3</th>\n",
       "      <td>Sales Executive</td>\n",
       "      <td>Bons Industries Limited</td>\n",
       "      <td>Marketing &amp; Communications</td>\n",
       "      <td>Understanding of the sales process and dynamics.\"</td>\n",
       "      <td>Minimum academic qualification of BSC/HND Degree in Marketing and other related disciplines, Minimum of 3years of work experience., Self-motivated and driven by targets., Strong communication skills – including both</td>\n",
       "      <td>75,000 - 150,000</td>\n",
       "      <td>Enugu</td>\n",
       "      <td>Full Time</td>\n",
       "      <td>Manufacturing &amp; Warehousing</td>\n",
       "      <td>0</td>\n",
       "    </tr>\n",
       "    <tr>\n",
       "      <th>4</th>\n",
       "      <td>Bulk/Partnership Marketing Officer</td>\n",
       "      <td>TAMAK LOGISTICS</td>\n",
       "      <td>Marketing &amp; Communications</td>\n",
       "      <td>Establish relationships with major businesses situated on the island</td>\n",
       "      <td>Be smart &amp; resourceful.,Great knowledge of how to socialize and interact with the major businesses &amp; vendors.,Have a working smartphone.,Be well-spoken &amp; presentable.,The ability to work with minimal / no supervision.,Be able to use Microsoft office tools.,Age preference is between 21-28 years.</td>\n",
       "      <td>Less than 75,000</td>\n",
       "      <td>Lagos</td>\n",
       "      <td>Full Time</td>\n",
       "      <td>Shipping &amp; Logistics</td>\n",
       "      <td>0</td>\n",
       "    </tr>\n",
       "    <tr>\n",
       "      <th>...</th>\n",
       "      <td>...</td>\n",
       "      <td>...</td>\n",
       "      <td>...</td>\n",
       "      <td>...</td>\n",
       "      <td>...</td>\n",
       "      <td>...</td>\n",
       "      <td>...</td>\n",
       "      <td>...</td>\n",
       "      <td>...</td>\n",
       "      <td>...</td>\n",
       "    </tr>\n",
       "    <tr>\n",
       "      <th>197</th>\n",
       "      <td>Project Manager</td>\n",
       "      <td>HOME PLACES CONSULT</td>\n",
       "      <td>Management &amp; Business Development</td>\n",
       "      <td>Oversee construction projects</td>\n",
       "      <td>Bachelor's Degree in Engineering or related field</td>\n",
       "      <td>400,000</td>\n",
       "      <td>Lagos</td>\n",
       "      <td>Full Time</td>\n",
       "      <td>Construction</td>\n",
       "      <td>1</td>\n",
       "    </tr>\n",
       "    <tr>\n",
       "      <th>198</th>\n",
       "      <td>Accountant</td>\n",
       "      <td>Jobberman (Third Party Recruitment)</td>\n",
       "      <td>Accounting, Auditing &amp; Finance</td>\n",
       "      <td>Handle postings of all accounting transactions.</td>\n",
       "      <td>This position is open preferably to a female candidate,Minimum academic qualification of a first degree, BSc/HND in Accounting.,ACA/ACCA (Chartered Accountant) Certification.,3 - 5 years of work experience in a Chartered Accounting Firm.,Experience in financial reporting,Excellent research and reporting skills.,Detail-oriented and time management skills.</td>\n",
       "      <td>250,000 - 400,000</td>\n",
       "      <td>Abuja</td>\n",
       "      <td>Full Time</td>\n",
       "      <td>IT &amp; Telecoms</td>\n",
       "      <td>0</td>\n",
       "    </tr>\n",
       "    <tr>\n",
       "      <th>199</th>\n",
       "      <td>Customer Care Representative</td>\n",
       "      <td>CAKES AND CREAM</td>\n",
       "      <td>Customer Service &amp; Support</td>\n",
       "      <td>Manage large amounts of incoming calls</td>\n",
       "      <td>Minimum academic qualification of a BSc/ equivalent in any field,Must have completed NYSC,Male /female,Experience in customer service</td>\n",
       "      <td>75,000 - 150,000</td>\n",
       "      <td>Lagos</td>\n",
       "      <td>Full Time</td>\n",
       "      <td>Hospitality &amp; Hotel</td>\n",
       "      <td>0</td>\n",
       "    </tr>\n",
       "    <tr>\n",
       "      <th>200</th>\n",
       "      <td>Business Development Manager</td>\n",
       "      <td>BETA AGE</td>\n",
       "      <td>Management &amp; Business Development</td>\n",
       "      <td>Conduct research to identify business opportunities and evaluate market trends. Develop and implement business strategies to achieve growth objectives.Establish and maintain relationships with clients and partners. Coordinate and manage projects from start to finish. Analyze financial data and prepare reports. Attend meetings and networking events.</td>\n",
       "      <td>Minimum of Bachelor's degree in Business Administration or any related field, Minimum of 5 years of experience in business development or related field. Good knowledge of business operations, marketing, and financial management, Strong interpersonal and communication skills, Ability to work independently and in a team environment, Proficient in the use of Microsoft Office tools.</td>\n",
       "      <td>150,000</td>\n",
       "      <td>Lagos</td>\n",
       "      <td>Full Time</td>\n",
       "      <td>Business Development</td>\n",
       "      <td>1</td>\n",
       "    </tr>\n",
       "    <tr>\n",
       "      <th>201</th>\n",
       "      <td>Driver</td>\n",
       "      <td>Damiltec Nig. Enterprises</td>\n",
       "      <td>Driver &amp; Transport Services</td>\n",
       "      <td>Operate company vehicles to make pickups and drop off</td>\n",
       "      <td>Minimum academic qualification of School certificate or Neco,5 years of driving experience in a professional capacity,Possession of a valid driver’s license,Clean driving record for at least one year,Ability to drive for extended periods,Strong commitment to safety,Excellent navigational skills,Good communication (English language) and interpersonal skills,Ability to be able to drive manual and automatic,Driver with an Android phone and a Christian,Experienced using GPS technology,Ability to perform basic vehicle maintenance,Candidates Aged between  35 - 45 years</td>\n",
       "      <td>Less than 75,000</td>\n",
       "      <td>Lagos</td>\n",
       "      <td>Full Time</td>\n",
       "      <td>IT &amp; Telecoms</td>\n",
       "      <td>0</td>\n",
       "    </tr>\n",
       "  </tbody>\n",
       "</table>\n",
       "<p>202 rows × 10 columns</p>\n",
       "</div>"
      ],
      "text/plain": [
       "                              job_title                         company_name  \\\n",
       "0                            Accountant                 Equity Model Limited   \n",
       "1                        Content Writer                    CLINTON FUND (CF)   \n",
       "2                            Accountant              Schleez Nigeria Limited   \n",
       "3                       Sales Executive              Bons Industries Limited   \n",
       "4    Bulk/Partnership Marketing Officer                      TAMAK LOGISTICS   \n",
       "..                                  ...                                  ...   \n",
       "197                     Project Manager                  HOME PLACES CONSULT   \n",
       "198                          Accountant  Jobberman (Third Party Recruitment)   \n",
       "199        Customer Care Representative                      CAKES AND CREAM   \n",
       "200        Business Development Manager                             BETA AGE   \n",
       "201                              Driver            Damiltec Nig. Enterprises   \n",
       "\n",
       "                          company_desc  \\\n",
       "0       Accounting, Auditing & Finance   \n",
       "1    Management & Business Development   \n",
       "2       Accounting, Auditing & Finance   \n",
       "3           Marketing & Communications   \n",
       "4           Marketing & Communications   \n",
       "..                                 ...   \n",
       "197  Management & Business Development   \n",
       "198     Accounting, Auditing & Finance   \n",
       "199         Customer Service & Support   \n",
       "200  Management & Business Development   \n",
       "201        Driver & Transport Services   \n",
       "\n",
       "                                                                                                                                                                                                                                                                                                                                                             job_desc  \\\n",
       "0                                                                                                                                                                                                                                                                                                                 Compiling, analyzing, and reporting financial data.   \n",
       "1                                                                                                                                               Creating, improving and maintaining content to achieve our business goals. Your duties will also include sharing content to raise brand awareness and monitoring web traffic and metrics to identify best practices.    \n",
       "2                                                                                                                                                                                                                                                            Managing financial transactions, preparing financial reports, and providing financial advice to clients.   \n",
       "3                                                                                                                                                                                                                                                                                                                   Understanding of the sales process and dynamics.\"   \n",
       "4                                                                                                                                                                                                                                                                                                Establish relationships with major businesses situated on the island   \n",
       "..                                                                                                                                                                                                                                                                                                                                                                ...   \n",
       "197                                                                                                                                                                                                                                                                                                                                     Oversee construction projects   \n",
       "198                                                                                                                                                                                                                                                                                                                   Handle postings of all accounting transactions.   \n",
       "199                                                                                                                                                                                                                                                                                                                            Manage large amounts of incoming calls   \n",
       "200   Conduct research to identify business opportunities and evaluate market trends. Develop and implement business strategies to achieve growth objectives.Establish and maintain relationships with clients and partners. Coordinate and manage projects from start to finish. Analyze financial data and prepare reports. Attend meetings and networking events.    \n",
       "201                                                                                                                                                                                                                                                                                                             Operate company vehicles to make pickups and drop off   \n",
       "\n",
       "                                                                                                                                                                                                                                                                                                                                                                                                                                                                                                                                                                               job_requirement  \\\n",
       "0                                                                                                                                                                    This position is open preferably to a male candidate,Minimum academic qualification preferably in accounting,Candidates aged between 22 - 30 years,Ability to write clearly and help with word processing when necessary.,A warm personality and strong communication skills.,Ability to work well under limited supervision.,Great communication and writing skills.,Hands-on experience in managing time and personnel.   \n",
       "1                                                                                                                                                                                                                                                                                                                                                                                                                                                                                                                   Bachelor's degree in Journalism, English, Communications or related field.   \n",
       "2                                                                                                                                                                                                                                                                                                                                   Minimum of Bachelor's degree in Accounting or related field, Professional certification such as ACCA or ICAN, Proven experience as an Accountant, Strong computer skills, including proficiency in Excel, Excellent communication and interpersonal skills   \n",
       "3                                                                                                                                                                                                                                                                                                                                                                      Minimum academic qualification of BSC/HND Degree in Marketing and other related disciplines, Minimum of 3years of work experience., Self-motivated and driven by targets., Strong communication skills – including both   \n",
       "4                                                                                                                                                                                                                                                                                      Be smart & resourceful.,Great knowledge of how to socialize and interact with the major businesses & vendors.,Have a working smartphone.,Be well-spoken & presentable.,The ability to work with minimal / no supervision.,Be able to use Microsoft office tools.,Age preference is between 21-28 years.   \n",
       "..                                                                                                                                                                                                                                                                                                                                                                                                                                                                                                                                                                                         ...   \n",
       "197                                                                                                                                                                                                                                                                                                                                                                                                                                                                                                                                          Bachelor's Degree in Engineering or related field   \n",
       "198                                                                                                                                                                                                                       This position is open preferably to a female candidate,Minimum academic qualification of a first degree, BSc/HND in Accounting.,ACA/ACCA (Chartered Accountant) Certification.,3 - 5 years of work experience in a Chartered Accounting Firm.,Experience in financial reporting,Excellent research and reporting skills.,Detail-oriented and time management skills.   \n",
       "199                                                                                                                                                                                                                                                                                                                                                                                                                                                      Minimum academic qualification of a BSc/ equivalent in any field,Must have completed NYSC,Male /female,Experience in customer service   \n",
       "200                                                                                                                                                                                              Minimum of Bachelor's degree in Business Administration or any related field, Minimum of 5 years of experience in business development or related field. Good knowledge of business operations, marketing, and financial management, Strong interpersonal and communication skills, Ability to work independently and in a team environment, Proficient in the use of Microsoft Office tools.   \n",
       "201  Minimum academic qualification of School certificate or Neco,5 years of driving experience in a professional capacity,Possession of a valid driver’s license,Clean driving record for at least one year,Ability to drive for extended periods,Strong commitment to safety,Excellent navigational skills,Good communication (English language) and interpersonal skills,Ability to be able to drive manual and automatic,Driver with an Android phone and a Christian,Experienced using GPS technology,Ability to perform basic vehicle maintenance,Candidates Aged between  35 - 45 years   \n",
       "\n",
       "                salary  \\\n",
       "0     75,000 - 150,000   \n",
       "1     60,000 - 100,000   \n",
       "2           Negotiable   \n",
       "3     75,000 - 150,000   \n",
       "4     Less than 75,000   \n",
       "..                 ...   \n",
       "197            400,000   \n",
       "198  250,000 - 400,000   \n",
       "199   75,000 - 150,000   \n",
       "200            150,000   \n",
       "201   Less than 75,000   \n",
       "\n",
       "                                                                                             location  \\\n",
       "0                                                                                               Abuja   \n",
       "1                                                                                               Lagos   \n",
       "2    First Floor, Left Wing, No. 49, Olowu Street, Off Moboloji Bank, Anthony Way, Ikeja, Lagos State   \n",
       "3                                                                                               Enugu   \n",
       "4                                                                                               Lagos   \n",
       "..                                                                                                ...   \n",
       "197                                                                                             Lagos   \n",
       "198                                                                                             Abuja   \n",
       "199                                                                                             Lagos   \n",
       "200                                                                                             Lagos   \n",
       "201                                                                                             Lagos   \n",
       "\n",
       "    employment_type                   department  label  \n",
       "0         Full Time             Law & Compliance      0  \n",
       "1         Full Time              Content Writing      1  \n",
       "2         Full-time                   Accounting      1  \n",
       "3         Full Time  Manufacturing & Warehousing      0  \n",
       "4         Full Time         Shipping & Logistics      0  \n",
       "..              ...                          ...    ...  \n",
       "197       Full Time                 Construction      1  \n",
       "198       Full Time                IT & Telecoms      0  \n",
       "199       Full Time          Hospitality & Hotel      0  \n",
       "200       Full Time         Business Development      1  \n",
       "201       Full Time                IT & Telecoms      0  \n",
       "\n",
       "[202 rows x 10 columns]"
      ]
     },
     "execution_count": 71,
     "metadata": {},
     "output_type": "execute_result"
    }
   ],
   "source": [
    "df = pd.read_csv('fakereal-job-posting-in-nigeria/CompiledjobListNigeria.csv')\n",
    "df"
   ]
  },
  {
   "cell_type": "markdown",
   "metadata": {},
   "source": [
    "Where 'BodyFat' is the column responsible for the class of the given data, acting as a label for future classification. The other columns represent data from measurement and other information on the human body, going from neck to ankle, with also age, weight and body density."
   ]
  },
  {
   "cell_type": "code",
   "execution_count": 72,
   "metadata": {},
   "outputs": [
    {
     "name": "stdout",
     "output_type": "stream",
     "text": [
      "<class 'pandas.core.frame.DataFrame'>\n",
      "RangeIndex: 202 entries, 0 to 201\n",
      "Data columns (total 10 columns):\n",
      " #   Column           Non-Null Count  Dtype \n",
      "---  ------           --------------  ----- \n",
      " 0   job_title        202 non-null    object\n",
      " 1   company_name     202 non-null    object\n",
      " 2   company_desc     202 non-null    object\n",
      " 3   job_desc         202 non-null    object\n",
      " 4   job_requirement  202 non-null    object\n",
      " 5   salary           202 non-null    object\n",
      " 6   location         202 non-null    object\n",
      " 7   employment_type  202 non-null    object\n",
      " 8   department       202 non-null    object\n",
      " 9   label            202 non-null    int64 \n",
      "dtypes: int64(1), object(9)\n",
      "memory usage: 15.9+ KB\n"
     ]
    }
   ],
   "source": [
    "df.info()"
   ]
  },
  {
   "cell_type": "raw",
   "metadata": {},
   "source": [
    "As seen above, the data is divided into mostly objects (object), whereas the label is the only information that is represented by an integer (int64)."
   ]
  },
  {
   "cell_type": "code",
   "execution_count": 123,
   "metadata": {},
   "outputs": [
    {
     "data": {
      "text/plain": [
       "<AxesSubplot:>"
      ]
     },
     "execution_count": 123,
     "metadata": {},
     "output_type": "execute_result"
    },
    {
     "data": {
      "image/png": "[encoded data removed]",
      "text/plain": [
       "<Figure size 432x288 with 1 Axes>"
      ]
     },
     "metadata": {
      "needs_background": "light"
     },
     "output_type": "display_data"
    }
   ],
   "source": [
    "df['label'].hist()"
   ]
  },
  {
   "cell_type": "code",
   "execution_count": 73,
   "metadata": {},
   "outputs": [
    {
     "data": {
      "text/plain": [
       "job_title          0\n",
       "company_name       0\n",
       "company_desc       0\n",
       "job_desc           0\n",
       "job_requirement    0\n",
       "salary             0\n",
       "location           0\n",
       "employment_type    0\n",
       "department         0\n",
       "label              0\n",
       "dtype: int64"
      ]
     },
     "execution_count": 73,
     "metadata": {},
     "output_type": "execute_result"
    }
   ],
   "source": [
    "df.isna().sum()"
   ]
  },
  {
   "cell_type": "markdown",
   "metadata": {},
   "source": [
    "We can also see that the dataset doesn't have any null values."
   ]
  },
  {
   "cell_type": "markdown",
   "metadata": {},
   "source": [
    "Now we can encode all the strings on the dataset for easier future usage:"
   ]
  },
  {
   "cell_type": "code",
   "execution_count": 74,
   "metadata": {},
   "outputs": [
    {
     "data": {
      "text/html": [
       "<div>\n",
       "<style scoped>\n",
       "    .dataframe tbody tr th:only-of-type {\n",
       "        vertical-align: middle;\n",
       "    }\n",
       "\n",
       "    .dataframe tbody tr th {\n",
       "        vertical-align: top;\n",
       "    }\n",
       "\n",
       "    .dataframe thead th {\n",
       "        text-align: right;\n",
       "    }\n",
       "</style>\n",
       "<table border=\"1\" class=\"dataframe\">\n",
       "  <thead>\n",
       "    <tr style=\"text-align: right;\">\n",
       "      <th></th>\n",
       "      <th>job_title</th>\n",
       "      <th>company_name</th>\n",
       "      <th>company_desc</th>\n",
       "      <th>job_desc</th>\n",
       "      <th>job_requirement</th>\n",
       "      <th>salary</th>\n",
       "      <th>location</th>\n",
       "      <th>employment_type</th>\n",
       "      <th>department</th>\n",
       "      <th>label</th>\n",
       "    </tr>\n",
       "  </thead>\n",
       "  <tbody>\n",
       "    <tr>\n",
       "      <th>0</th>\n",
       "      <td>3</td>\n",
       "      <td>44</td>\n",
       "      <td>0</td>\n",
       "      <td>19</td>\n",
       "      <td>183</td>\n",
       "      <td>35</td>\n",
       "      <td>4</td>\n",
       "      <td>1</td>\n",
       "      <td>26</td>\n",
       "      <td>0</td>\n",
       "    </tr>\n",
       "    <tr>\n",
       "      <th>1</th>\n",
       "      <td>25</td>\n",
       "      <td>16</td>\n",
       "      <td>26</td>\n",
       "      <td>34</td>\n",
       "      <td>1</td>\n",
       "      <td>31</td>\n",
       "      <td>19</td>\n",
       "      <td>1</td>\n",
       "      <td>10</td>\n",
       "      <td>1</td>\n",
       "    </tr>\n",
       "    <tr>\n",
       "      <th>2</th>\n",
       "      <td>3</td>\n",
       "      <td>111</td>\n",
       "      <td>0</td>\n",
       "      <td>112</td>\n",
       "      <td>133</td>\n",
       "      <td>46</td>\n",
       "      <td>8</td>\n",
       "      <td>2</td>\n",
       "      <td>0</td>\n",
       "      <td>1</td>\n",
       "    </tr>\n",
       "    <tr>\n",
       "      <th>3</th>\n",
       "      <td>104</td>\n",
       "      <td>11</td>\n",
       "      <td>29</td>\n",
       "      <td>180</td>\n",
       "      <td>69</td>\n",
       "      <td>35</td>\n",
       "      <td>6</td>\n",
       "      <td>1</td>\n",
       "      <td>28</td>\n",
       "      <td>0</td>\n",
       "    </tr>\n",
       "    <tr>\n",
       "      <th>4</th>\n",
       "      <td>11</td>\n",
       "      <td>120</td>\n",
       "      <td>29</td>\n",
       "      <td>67</td>\n",
       "      <td>49</td>\n",
       "      <td>44</td>\n",
       "      <td>19</td>\n",
       "      <td>1</td>\n",
       "      <td>38</td>\n",
       "      <td>0</td>\n",
       "    </tr>\n",
       "    <tr>\n",
       "      <th>...</th>\n",
       "      <td>...</td>\n",
       "      <td>...</td>\n",
       "      <td>...</td>\n",
       "      <td>...</td>\n",
       "      <td>...</td>\n",
       "      <td>...</td>\n",
       "      <td>...</td>\n",
       "      <td>...</td>\n",
       "      <td>...</td>\n",
       "      <td>...</td>\n",
       "    </tr>\n",
       "    <tr>\n",
       "      <th>197</th>\n",
       "      <td>96</td>\n",
       "      <td>57</td>\n",
       "      <td>26</td>\n",
       "      <td>126</td>\n",
       "      <td>15</td>\n",
       "      <td>25</td>\n",
       "      <td>19</td>\n",
       "      <td>1</td>\n",
       "      <td>9</td>\n",
       "      <td>1</td>\n",
       "    </tr>\n",
       "    <tr>\n",
       "      <th>198</th>\n",
       "      <td>3</td>\n",
       "      <td>65</td>\n",
       "      <td>0</td>\n",
       "      <td>82</td>\n",
       "      <td>179</td>\n",
       "      <td>17</td>\n",
       "      <td>4</td>\n",
       "      <td>1</td>\n",
       "      <td>24</td>\n",
       "      <td>0</td>\n",
       "    </tr>\n",
       "    <tr>\n",
       "      <th>199</th>\n",
       "      <td>30</td>\n",
       "      <td>15</td>\n",
       "      <td>12</td>\n",
       "      <td>106</td>\n",
       "      <td>101</td>\n",
       "      <td>35</td>\n",
       "      <td>19</td>\n",
       "      <td>1</td>\n",
       "      <td>22</td>\n",
       "      <td>0</td>\n",
       "    </tr>\n",
       "    <tr>\n",
       "      <th>200</th>\n",
       "      <td>13</td>\n",
       "      <td>7</td>\n",
       "      <td>26</td>\n",
       "      <td>0</td>\n",
       "      <td>134</td>\n",
       "      <td>4</td>\n",
       "      <td>19</td>\n",
       "      <td>1</td>\n",
       "      <td>8</td>\n",
       "      <td>1</td>\n",
       "    </tr>\n",
       "    <tr>\n",
       "      <th>201</th>\n",
       "      <td>39</td>\n",
       "      <td>35</td>\n",
       "      <td>13</td>\n",
       "      <td>120</td>\n",
       "      <td>99</td>\n",
       "      <td>44</td>\n",
       "      <td>19</td>\n",
       "      <td>1</td>\n",
       "      <td>24</td>\n",
       "      <td>0</td>\n",
       "    </tr>\n",
       "  </tbody>\n",
       "</table>\n",
       "<p>202 rows × 10 columns</p>\n",
       "</div>"
      ],
      "text/plain": [
       "     job_title  company_name  company_desc  job_desc  job_requirement  salary  \\\n",
       "0            3            44             0        19              183      35   \n",
       "1           25            16            26        34                1      31   \n",
       "2            3           111             0       112              133      46   \n",
       "3          104            11            29       180               69      35   \n",
       "4           11           120            29        67               49      44   \n",
       "..         ...           ...           ...       ...              ...     ...   \n",
       "197         96            57            26       126               15      25   \n",
       "198          3            65             0        82              179      17   \n",
       "199         30            15            12       106              101      35   \n",
       "200         13             7            26         0              134       4   \n",
       "201         39            35            13       120               99      44   \n",
       "\n",
       "     location  employment_type  department  label  \n",
       "0           4                1          26      0  \n",
       "1          19                1          10      1  \n",
       "2           8                2           0      1  \n",
       "3           6                1          28      0  \n",
       "4          19                1          38      0  \n",
       "..        ...              ...         ...    ...  \n",
       "197        19                1           9      1  \n",
       "198         4                1          24      0  \n",
       "199        19                1          22      0  \n",
       "200        19                1           8      1  \n",
       "201        19                1          24      0  \n",
       "\n",
       "[202 rows x 10 columns]"
      ]
     },
     "execution_count": 74,
     "metadata": {},
     "output_type": "execute_result"
    }
   ],
   "source": [
    "# Encoding strings\n",
    "\n",
    "from sklearn.preprocessing import LabelEncoder\n",
    "import pandas as pd\n",
    "label_encoder = LabelEncoder()\n",
    "\n",
    "for column in df.columns[:-1]:  # Exclude the last column (label)\n",
    "    df[column] = label_encoder.fit_transform(df[column])\n",
    "    \n",
    "df"
   ]
  },
  {
   "cell_type": "markdown",
   "metadata": {},
   "source": [
    "## Tensor creation"
   ]
  },
  {
   "cell_type": "code",
   "execution_count": 75,
   "metadata": {},
   "outputs": [],
   "source": [
    "# Creating tensor for dependent row (label)\n",
    "import torch\n",
    "t_dep = tensor(df.label)"
   ]
  },
  {
   "cell_type": "markdown",
   "metadata": {},
   "source": [
    "Creating independent columns:"
   ]
  },
  {
   "cell_type": "code",
   "execution_count": 76,
   "metadata": {},
   "outputs": [
    {
     "data": {
      "text/plain": [
       "tensor([[  3.,  44.,   0.,  ...,   4.,   1.,  26.],\n",
       "        [ 25.,  16.,  26.,  ...,  19.,   1.,  10.],\n",
       "        [  3., 111.,   0.,  ...,   8.,   2.,   0.],\n",
       "        ...,\n",
       "        [ 30.,  15.,  12.,  ...,  19.,   1.,  22.],\n",
       "        [ 13.,   7.,  26.,  ...,  19.,   1.,   8.],\n",
       "        [ 39.,  35.,  13.,  ...,  19.,   1.,  24.]])"
      ]
     },
     "execution_count": 76,
     "metadata": {},
     "output_type": "execute_result"
    }
   ],
   "source": [
    "indep_cols = df.columns[:-1] # Get all elements except the label\n",
    "\n",
    "# Create tensor for independent rows\n",
    "t_indep = tensor(df[indep_cols].values, dtype=torch.float)\n",
    "t_indep"
   ]
  },
  {
   "cell_type": "code",
   "execution_count": 77,
   "metadata": {},
   "outputs": [
    {
     "data": {
      "text/plain": [
       "torch.Size([202, 9])"
      ]
     },
     "execution_count": 77,
     "metadata": {},
     "output_type": "execute_result"
    }
   ],
   "source": [
    "# Number of independent columns and rows\n",
    "t_indep.shape"
   ]
  },
  {
   "cell_type": "markdown",
   "metadata": {},
   "source": [
    "## Model creation"
   ]
  },
  {
   "cell_type": "code",
   "execution_count": 78,
   "metadata": {},
   "outputs": [
    {
     "data": {
      "text/plain": [
       "tensor([-0.4629,  0.1386,  0.2409, -0.2262, -0.2632, -0.3147,  0.4876,  0.3136,\n",
       "         0.2799])"
      ]
     },
     "execution_count": 78,
     "metadata": {},
     "output_type": "execute_result"
    }
   ],
   "source": [
    "# Defining random coefficients for the columns\n",
    "torch.manual_seed(442)\n",
    "\n",
    "n_coeff = t_indep.shape[1]\n",
    "coeffs = torch.rand(n_coeff)-0.5\n",
    "coeffs"
   ]
  },
  {
   "cell_type": "code",
   "execution_count": 79,
   "metadata": {},
   "outputs": [
    {
     "data": {
      "text/plain": [
       "tensor([[ -1.3887,   6.0975,   0.0000,  ...,   1.9504,   0.3136,   7.2770],\n",
       "        [-11.5725,   2.2173,   6.2634,  ...,   9.2646,   0.3136,   2.7988],\n",
       "        [ -1.3887,  15.3823,   0.0000,  ...,   3.9009,   0.6271,   0.0000],\n",
       "        ...,\n",
       "        [-13.8870,   2.0787,   2.8908,  ...,   9.2646,   0.3136,   6.1574],\n",
       "        [ -6.0177,   0.9701,   6.2634,  ...,   9.2646,   0.3136,   2.2391],\n",
       "        [-18.0531,   4.8503,   3.1317,  ...,   9.2646,   0.3136,   6.7172]])"
      ]
     },
     "execution_count": 79,
     "metadata": {},
     "output_type": "execute_result"
    }
   ],
   "source": [
    "# Multiplying columns by the coefficients\n",
    "t_indep*coeffs"
   ]
  },
  {
   "cell_type": "code",
   "execution_count": 80,
   "metadata": {
    "jp-MarkdownHeadingCollapsed": true
   },
   "outputs": [
    {
     "data": {
      "text/plain": [
       "tensor([[-0.0110,  0.0426,  0.0000,  ...,  0.0406,  0.0784,  0.1775],\n",
       "        [-0.0918,  0.0155,  0.1362,  ...,  0.1930,  0.0784,  0.0683],\n",
       "        [-0.0110,  0.1076,  0.0000,  ...,  0.0813,  0.1568,  0.0000],\n",
       "        ...,\n",
       "        [-0.1102,  0.0145,  0.0628,  ...,  0.1930,  0.0784,  0.1502],\n",
       "        [-0.0478,  0.0068,  0.1362,  ...,  0.1930,  0.0784,  0.0546],\n",
       "        [-0.1433,  0.0339,  0.0681,  ...,  0.1930,  0.0784,  0.1638]])"
      ]
     },
     "execution_count": 80,
     "metadata": {},
     "output_type": "execute_result"
    }
   ],
   "source": [
    "# Dividing by the max value\n",
    "vals,indices = t_indep.max(dim=0)\n",
    "t_indep = t_indep / vals\n",
    "\n",
    "t_indep*coeffs"
   ]
  },
  {
   "cell_type": "markdown",
   "metadata": {},
   "source": [
    "## Prediction creation"
   ]
  },
  {
   "cell_type": "code",
   "execution_count": 81,
   "metadata": {},
   "outputs": [
    {
     "data": {
      "text/plain": [
       "tensor([-0.1936,  0.1444, -0.3053, -0.4462,  0.3063, -0.3307,  0.0495, -0.0966,\n",
       "        -0.0051, -0.1639])"
      ]
     },
     "execution_count": 81,
     "metadata": {},
     "output_type": "execute_result"
    }
   ],
   "source": [
    "preds = (t_indep*coeffs).sum(axis=1)\n",
    "preds[:10]"
   ]
  },
  {
   "cell_type": "markdown",
   "metadata": {},
   "source": [
    "## Loss creation"
   ]
  },
  {
   "cell_type": "code",
   "execution_count": 82,
   "metadata": {},
   "outputs": [
    {
     "data": {
      "text/plain": [
       "tensor(0.4297)"
      ]
     },
     "execution_count": 82,
     "metadata": {},
     "output_type": "execute_result"
    }
   ],
   "source": [
    "loss = torch.abs(preds-t_dep).mean()\n",
    "loss"
   ]
  },
  {
   "cell_type": "markdown",
   "metadata": {},
   "source": [
    "## Prediction and loss as functions"
   ]
  },
  {
   "cell_type": "code",
   "execution_count": 83,
   "metadata": {},
   "outputs": [],
   "source": [
    "def calc_preds(coeffs, indeps): return (indeps*coeffs).sum(axis=1)\n",
    "def calc_loss(coeffs, indeps, deps): return torch.abs(calc_preds(coeffs, indeps)-deps).mean()"
   ]
  },
  {
   "cell_type": "markdown",
   "metadata": {},
   "source": [
    "## Gradients"
   ]
  },
  {
   "cell_type": "code",
   "execution_count": 84,
   "metadata": {},
   "outputs": [
    {
     "data": {
      "text/plain": [
       "tensor([-0.4629,  0.1386,  0.2409, -0.2262, -0.2632, -0.3147,  0.4876,  0.3136,\n",
       "         0.2799], requires_grad=True)"
      ]
     },
     "execution_count": 84,
     "metadata": {},
     "output_type": "execute_result"
    }
   ],
   "source": [
    "# Gradient calculation\n",
    "coeffs.requires_grad_()"
   ]
  },
  {
   "cell_type": "code",
   "execution_count": 85,
   "metadata": {},
   "outputs": [
    {
     "data": {
      "text/plain": [
       "tensor(0.4297, grad_fn=<MeanBackward0>)"
      ]
     },
     "execution_count": 85,
     "metadata": {},
     "output_type": "execute_result"
    }
   ],
   "source": [
    "# Calculate loss with coeffs\n",
    "loss = calc_loss(coeffs, t_indep, t_dep)\n",
    "loss"
   ]
  },
  {
   "cell_type": "code",
   "execution_count": 86,
   "metadata": {},
   "outputs": [],
   "source": [
    "loss.backward()"
   ]
  },
  {
   "cell_type": "code",
   "execution_count": 87,
   "metadata": {},
   "outputs": [
    {
     "data": {
      "text/plain": [
       "tensor([-0.3529, -0.2659, -0.2766, -0.3537, -0.3225, -0.3941, -0.2130, -0.2092,\n",
       "        -0.2908])"
      ]
     },
     "execution_count": 87,
     "metadata": {},
     "output_type": "execute_result"
    }
   ],
   "source": [
    "coeffs.grad"
   ]
  },
  {
   "cell_type": "code",
   "execution_count": 88,
   "metadata": {},
   "outputs": [
    {
     "data": {
      "text/plain": [
       "tensor([-0.7059, -0.5317, -0.5532, -0.7073, -0.6450, -0.7882, -0.4259, -0.4183,\n",
       "        -0.5815])"
      ]
     },
     "execution_count": 88,
     "metadata": {},
     "output_type": "execute_result"
    }
   ],
   "source": [
    "# Checking tensor\n",
    "loss = calc_loss(coeffs, t_indep, t_dep)\n",
    "loss.backward()\n",
    "coeffs.grad"
   ]
  },
  {
   "cell_type": "code",
   "execution_count": 89,
   "metadata": {},
   "outputs": [
    {
     "name": "stdout",
     "output_type": "stream",
     "text": [
      "tensor(0.3803)\n"
     ]
    }
   ],
   "source": [
    "# Gradient accompanies loss\n",
    "loss = calc_loss(coeffs, t_indep, t_dep)\n",
    "loss.backward()\n",
    "with torch.no_grad():\n",
    "    coeffs.sub_(coeffs.grad * 0.1)\n",
    "    coeffs.grad.zero_()\n",
    "    print(calc_loss(coeffs, t_indep, t_dep))"
   ]
  },
  {
   "cell_type": "markdown",
   "metadata": {},
   "source": [
    "## Model training"
   ]
  },
  {
   "cell_type": "code",
   "execution_count": 90,
   "metadata": {},
   "outputs": [],
   "source": [
    "# Getting dataset\n",
    "from fastai.data.transforms import RandomSplitter\n",
    "trn_split,val_split=RandomSplitter(seed=42)(ds)"
   ]
  },
  {
   "cell_type": "code",
   "execution_count": 91,
   "metadata": {},
   "outputs": [
    {
     "data": {
      "text/plain": [
       "(162, 40)"
      ]
     },
     "execution_count": 91,
     "metadata": {},
     "output_type": "execute_result"
    }
   ],
   "source": [
    "# Applying indices\n",
    "trn_indep,val_indep = t_indep[trn_split],t_indep[val_split]\n",
    "trn_dep,val_dep = t_dep[trn_split],t_dep[val_split]\n",
    "len(trn_indep),len(val_indep)"
   ]
  },
  {
   "cell_type": "code",
   "execution_count": 92,
   "metadata": {},
   "outputs": [],
   "source": [
    "# Creating auxiliary functions\n",
    "def update_coeffs(coeffs, lr):\n",
    "    coeffs.sub_(coeffs.grad * lr)\n",
    "    coeffs.grad.zero_()\n",
    "    \n",
    "def one_epoch(coeffs, lr):\n",
    "    loss = calc_loss(coeffs, trn_indep, trn_dep)\n",
    "    loss.backward()\n",
    "    with torch.no_grad(): update_coeffs(coeffs, lr)\n",
    "    print(f\"{loss:.3f}\", end=\"; \")\n",
    "    \n",
    "def init_coeffs(): return (torch.rand(n_coeff)-0.5).requires_grad_()\n",
    "\n",
    "def train_model(epochs=30, lr=0.01):\n",
    "    torch.manual_seed(442)\n",
    "    coeffs = init_coeffs()\n",
    "    for i in range(epochs): one_epoch(coeffs, lr=lr)\n",
    "    return coeffs"
   ]
  },
  {
   "cell_type": "code",
   "execution_count": 93,
   "metadata": {},
   "outputs": [
    {
     "name": "stdout",
     "output_type": "stream",
     "text": [
      "0.402; 0.337; 0.329; 0.326; 0.324; 0.322; 0.319; 0.317; 0.314; 0.312; 0.309; 0.307; 0.305; 0.304; 0.307; 0.306; 0.303; 0.301; "
     ]
    }
   ],
   "source": [
    "# Training model\n",
    "coeffs = train_model(18, lr=0.2)"
   ]
  },
  {
   "cell_type": "code",
   "execution_count": 94,
   "metadata": {},
   "outputs": [
    {
     "data": {
      "text/plain": [
       "{'job_title': tensor(-0.2496),\n",
       " 'company_name': tensor(0.0365),\n",
       " 'company_desc': tensor(0.1523),\n",
       " 'job_desc': tensor(-0.0401),\n",
       " 'job_requirement': tensor(-0.1318),\n",
       " 'salary': tensor(-0.2531),\n",
       " 'location': tensor(0.4860),\n",
       " 'employment_type': tensor(0.5228),\n",
       " 'department': tensor(0.2245)}"
      ]
     },
     "execution_count": 94,
     "metadata": {},
     "output_type": "execute_result"
    }
   ],
   "source": [
    "# Showing all the coefficients\n",
    "def show_coeffs(): return dict(zip(indep_cols, coeffs.requires_grad_(False)))\n",
    "show_coeffs()"
   ]
  },
  {
   "cell_type": "markdown",
   "metadata": {},
   "source": [
    "## Accuracy"
   ]
  },
  {
   "cell_type": "code",
   "execution_count": 95,
   "metadata": {},
   "outputs": [
    {
     "data": {
      "text/plain": [
       "tensor([ 0.0695,  0.1985,  0.0334,  0.0475, -0.0662,  0.1778,  0.1223,  0.5476,\n",
       "         0.4913,  0.0193,  0.3754,  0.2398,  0.4735,  0.4955,  0.6243,  0.2094,\n",
       "         0.3382,  0.1748,  0.3310,  0.2241,  0.1762,  0.5074,  0.1041,  0.4231,\n",
       "         0.6347,  0.3914,  0.1985,  0.8192,  0.3252,  0.3899, -0.0399,  0.1142,\n",
       "         0.0135,  0.7376,  0.2127,  0.3538,  0.3639,  0.2303,  0.0750,  0.3555])"
      ]
     },
     "execution_count": 95,
     "metadata": {},
     "output_type": "execute_result"
    }
   ],
   "source": [
    "# Calculating predictions\n",
    "preds = calc_preds(coeffs, val_indep)\n",
    "preds"
   ]
  },
  {
   "cell_type": "code",
   "execution_count": 96,
   "metadata": {},
   "outputs": [
    {
     "data": {
      "text/plain": [
       "tensor([ True,  True,  True,  True,  True, False,  True,  True,  True,  True,\n",
       "         True,  True, False, False,  True, False])"
      ]
     },
     "execution_count": 96,
     "metadata": {},
     "output_type": "execute_result"
    }
   ],
   "source": [
    "# Judging results based on a margin of 0.5 on the overall results\n",
    "results = val_dep.bool()==(preds>0.5)\n",
    "results[:16]"
   ]
  },
  {
   "cell_type": "code",
   "execution_count": 97,
   "metadata": {},
   "outputs": [
    {
     "data": {
      "text/plain": [
       "tensor(0.6250)"
      ]
     },
     "execution_count": 97,
     "metadata": {},
     "output_type": "execute_result"
    }
   ],
   "source": [
    "# Checking accuracy\n",
    "results.float().mean()"
   ]
  },
  {
   "cell_type": "code",
   "execution_count": 98,
   "metadata": {},
   "outputs": [
    {
     "data": {
      "text/plain": [
       "tensor(0.6250)"
      ]
     },
     "execution_count": 98,
     "metadata": {},
     "output_type": "execute_result"
    }
   ],
   "source": [
    "# Function for acc calculation\n",
    "def acc(coeffs): return (val_dep.bool()==(calc_preds(coeffs, val_indep)>0.5)).float().mean()\n",
    "acc(coeffs)"
   ]
  },
  {
   "cell_type": "markdown",
   "metadata": {},
   "source": [
    "## Sigmoid"
   ]
  },
  {
   "cell_type": "code",
   "execution_count": 99,
   "metadata": {},
   "outputs": [
    {
     "data": {
      "text/plain": [
       "tensor([ 0.0695,  0.1985,  0.0334,  0.0475, -0.0662,  0.1778,  0.1223,  0.5476,\n",
       "         0.4913,  0.0193,  0.3754,  0.2398,  0.4735,  0.4955,  0.6243,  0.2094,\n",
       "         0.3382,  0.1748,  0.3310,  0.2241,  0.1762,  0.5074,  0.1041,  0.4231,\n",
       "         0.6347,  0.3914,  0.1985,  0.8192])"
      ]
     },
     "execution_count": 99,
     "metadata": {},
     "output_type": "execute_result"
    }
   ],
   "source": [
    "# Predictions\n",
    "preds[:28]"
   ]
  },
  {
   "cell_type": "code",
   "execution_count": 100,
   "metadata": {},
   "outputs": [],
   "source": [
    "def calc_preds(coeffs, indeps): return torch.sigmoid((indeps*coeffs).sum(axis=1))"
   ]
  },
  {
   "cell_type": "code",
   "execution_count": 101,
   "metadata": {},
   "outputs": [
    {
     "name": "stdout",
     "output_type": "stream",
     "text": [
      "0.474; 0.284; 0.284; 0.284; 0.284; 0.284; 0.284; 0.284; 0.284; 0.284; 0.284; 0.284; 0.284; 0.284; 0.284; 0.284; 0.284; 0.284; 0.284; 0.284; 0.284; 0.284; 0.284; 0.284; 0.284; 0.284; 0.284; 0.284; 0.284; 0.284; "
     ]
    }
   ],
   "source": [
    "coeffs = train_model(lr=100)"
   ]
  },
  {
   "cell_type": "code",
   "execution_count": 102,
   "metadata": {},
   "outputs": [
    {
     "data": {
      "text/plain": [
       "{'job_title': tensor(-6.2340),\n",
       " 'company_name': tensor(-5.0230),\n",
       " 'company_desc': tensor(-5.7885),\n",
       " 'job_desc': tensor(-6.5299),\n",
       " 'job_requirement': tensor(-6.5034),\n",
       " 'salary': tensor(-10.1042),\n",
       " 'location': tensor(-3.1994),\n",
       " 'employment_type': tensor(-1.2366),\n",
       " 'department': tensor(-6.0760)}"
      ]
     },
     "execution_count": 102,
     "metadata": {},
     "output_type": "execute_result"
    }
   ],
   "source": [
    "show_coeffs()"
   ]
  },
  {
   "cell_type": "code",
   "execution_count": 103,
   "metadata": {},
   "outputs": [
    {
     "data": {
      "text/plain": [
       "tensor([-18.9257, -25.1557, -30.0668, -18.0933, -23.1702, -28.1749, -28.0076,\n",
       "        -32.1991, -22.9469, -26.4017, -29.7757, -18.3661, -24.2238, -25.0910,\n",
       "        -21.5555, -19.2861, -33.0477, -19.8393, -25.6675, -26.7142, -26.6132,\n",
       "        -25.8702, -33.9694, -19.2661, -25.4632, -16.6679, -28.8890, -22.8700,\n",
       "        -22.7133, -29.5223, -25.6798, -34.2988, -15.7748, -24.6730, -30.8681,\n",
       "        -27.8849, -19.9512, -33.3615, -19.4512, -31.4564])"
      ]
     },
     "execution_count": 103,
     "metadata": {},
     "output_type": "execute_result"
    }
   ],
   "source": [
    "(val_indep*coeffs).sum(axis=1)"
   ]
  },
  {
   "cell_type": "code",
   "execution_count": 104,
   "metadata": {},
   "outputs": [
    {
     "data": {
      "text/plain": [
       "tensor([-18.9257, -25.1557, -30.0668, -18.0933, -23.1702, -28.1749, -28.0076,\n",
       "        -32.1991, -22.9469, -26.4017, -29.7757, -18.3661, -24.2238, -25.0910,\n",
       "        -21.5555, -19.2861, -33.0477, -19.8393, -25.6675, -26.7142, -26.6132,\n",
       "        -25.8702, -33.9694, -19.2661, -25.4632, -16.6679, -28.8890, -22.8700,\n",
       "        -22.7133, -29.5223, -25.6798, -34.2988, -15.7748, -24.6730, -30.8681,\n",
       "        -27.8849, -19.9512, -33.3615, -19.4512, -31.4564])"
      ]
     },
     "execution_count": 104,
     "metadata": {},
     "output_type": "execute_result"
    }
   ],
   "source": [
    "val_indep@coeffs"
   ]
  },
  {
   "cell_type": "code",
   "execution_count": 105,
   "metadata": {},
   "outputs": [],
   "source": [
    "def calc_preds(coeffs, indeps): return torch.sigmoid(indeps@coeffs)"
   ]
  },
  {
   "cell_type": "code",
   "execution_count": 106,
   "metadata": {},
   "outputs": [],
   "source": [
    "def init_coeffs(): return (torch.rand(n_coeff, 1)*0.1).requires_grad_()"
   ]
  },
  {
   "cell_type": "code",
   "execution_count": 107,
   "metadata": {},
   "outputs": [],
   "source": [
    "trn_dep = trn_dep[:,None]\n",
    "val_dep = val_dep[:,None]"
   ]
  },
  {
   "cell_type": "code",
   "execution_count": 108,
   "metadata": {},
   "outputs": [
    {
     "name": "stdout",
     "output_type": "stream",
     "text": [
      "0.523; 0.284; 0.284; 0.284; 0.284; 0.284; 0.284; 0.284; 0.284; 0.284; 0.284; 0.284; 0.284; 0.284; 0.284; 0.284; 0.284; 0.284; 0.284; 0.284; 0.284; 0.284; 0.284; 0.284; 0.284; 0.284; 0.284; 0.284; 0.284; 0.284; "
     ]
    }
   ],
   "source": [
    "coeffs = train_model(lr=100)"
   ]
  },
  {
   "cell_type": "code",
   "execution_count": 109,
   "metadata": {},
   "outputs": [
    {
     "data": {
      "text/plain": [
       "tensor(0.4750)"
      ]
     },
     "execution_count": 109,
     "metadata": {},
     "output_type": "execute_result"
    }
   ],
   "source": [
    "acc(coeffs)"
   ]
  },
  {
   "cell_type": "markdown",
   "metadata": {},
   "source": [
    "## Neural Network"
   ]
  },
  {
   "cell_type": "code",
   "execution_count": 110,
   "metadata": {},
   "outputs": [],
   "source": [
    "def init_coeffs(n_hidden=20):\n",
    "    layer1 = (torch.rand(n_coeff, n_hidden)-0.5)/n_hidden\n",
    "    layer2 = torch.rand(n_hidden, 1)-0.3\n",
    "    const = torch.rand(1)[0]\n",
    "    return layer1.requires_grad_(),layer2.requires_grad_(),const.requires_grad_()"
   ]
  },
  {
   "cell_type": "code",
   "execution_count": 111,
   "metadata": {},
   "outputs": [],
   "source": [
    "import torch.nn.functional as F\n",
    "\n",
    "def calc_preds(coeffs, indeps):\n",
    "    l1,l2,const = coeffs\n",
    "    res = F.relu(indeps@l1)\n",
    "    res = res@l2 + const\n",
    "    return torch.sigmoid(res)"
   ]
  },
  {
   "cell_type": "code",
   "execution_count": 112,
   "metadata": {},
   "outputs": [],
   "source": [
    "def update_coeffs(coeffs, lr):\n",
    "    for layer in coeffs:\n",
    "        layer.sub_(layer.grad * lr)\n",
    "        layer.grad.zero_()"
   ]
  },
  {
   "cell_type": "markdown",
   "metadata": {},
   "source": [
    "### Training model"
   ]
  },
  {
   "cell_type": "code",
   "execution_count": 113,
   "metadata": {},
   "outputs": [
    {
     "name": "stdout",
     "output_type": "stream",
     "text": [
      "0.570; 0.552; 0.530; 0.505; 0.474; 0.438; 0.399; 0.363; 0.336; 0.319; 0.309; 0.302; 0.298; 0.295; 0.293; 0.291; 0.290; 0.289; 0.289; 0.288; 0.287; 0.287; 0.287; 0.286; 0.286; 0.286; 0.286; 0.285; 0.285; 0.285; "
     ]
    }
   ],
   "source": [
    "coeffs = train_model(lr=1.4)"
   ]
  },
  {
   "cell_type": "code",
   "execution_count": 114,
   "metadata": {},
   "outputs": [
    {
     "name": "stdout",
     "output_type": "stream",
     "text": [
      "0.570; 0.349; 0.284; 0.284; 0.284; 0.284; 0.284; 0.284; 0.284; 0.284; 0.284; 0.284; 0.284; 0.284; 0.284; 0.284; 0.284; 0.284; 0.284; 0.284; 0.284; 0.284; 0.284; 0.284; 0.284; 0.284; 0.284; 0.284; 0.284; 0.284; "
     ]
    }
   ],
   "source": [
    "coeffs = train_model(lr=20)"
   ]
  },
  {
   "cell_type": "code",
   "execution_count": 115,
   "metadata": {},
   "outputs": [
    {
     "data": {
      "text/plain": [
       "tensor(0.4750)"
      ]
     },
     "execution_count": 115,
     "metadata": {},
     "output_type": "execute_result"
    }
   ],
   "source": [
    "acc(coeffs)"
   ]
  },
  {
   "cell_type": "code",
   "execution_count": 116,
   "metadata": {},
   "outputs": [],
   "source": [
    "def init_coeffs():\n",
    "    hiddens = [10, 10]  # <-- set this to the size of each hidden layer you want\n",
    "    sizes = [n_coeff] + hiddens + [1]\n",
    "    n = len(sizes)\n",
    "    layers = [(torch.rand(sizes[i], sizes[i+1])-0.3)/sizes[i+1]*4 for i in range(n-1)]\n",
    "    consts = [(torch.rand(1)[0]-0.5)*0.1 for i in range(n-1)]\n",
    "    for l in layers+consts: l.requires_grad_()\n",
    "    return layers,consts"
   ]
  },
  {
   "cell_type": "code",
   "execution_count": 117,
   "metadata": {},
   "outputs": [],
   "source": [
    "import torch.nn.functional as F\n",
    "\n",
    "def calc_preds(coeffs, indeps):\n",
    "    layers,consts = coeffs\n",
    "    n = len(layers)\n",
    "    res = indeps\n",
    "    for i,l in enumerate(layers):\n",
    "        res = res@l + consts[i]\n",
    "        if i!=n-1: res = F.relu(res)\n",
    "    return torch.sigmoid(res)"
   ]
  },
  {
   "cell_type": "code",
   "execution_count": 118,
   "metadata": {},
   "outputs": [],
   "source": [
    "def update_coeffs(coeffs, lr):\n",
    "    layers,consts = coeffs\n",
    "    for layer in layers+consts:\n",
    "        layer.sub_(layer.grad * lr)\n",
    "        layer.grad.zero_()"
   ]
  },
  {
   "cell_type": "code",
   "execution_count": 119,
   "metadata": {},
   "outputs": [
    {
     "name": "stdout",
     "output_type": "stream",
     "text": [
      "0.645; 0.470; 0.427; 0.393; 0.369; 0.352; 0.340; 0.331; 0.324; 0.319; 0.315; 0.312; 0.309; 0.307; 0.305; 0.304; 0.302; 0.301; 0.300; 0.299; 0.298; 0.298; 0.297; 0.296; 0.296; 0.295; 0.295; 0.294; 0.294; 0.294; "
     ]
    }
   ],
   "source": [
    "coeffs = train_model(lr=4)"
   ]
  },
  {
   "cell_type": "code",
   "execution_count": 120,
   "metadata": {},
   "outputs": [
    {
     "data": {
      "text/plain": [
       "tensor(0.4750)"
      ]
     },
     "execution_count": 120,
     "metadata": {},
     "output_type": "execute_result"
    }
   ],
   "source": [
    "acc(coeffs)"
   ]
  },
  {
   "cell_type": "markdown",
   "metadata": {},
   "source": [
    "## Saving model for use"
   ]
  },
  {
   "cell_type": "code",
   "execution_count": 124,
   "metadata": {},
   "outputs": [],
   "source": [
    "torch.save(coeffs, 'fakejobposts.pth')"
   ]
  }
 ],
 "metadata": {
  "kernelspec": {
   "display_name": "Python 3",
   "language": "python",
   "name": "python3"
  },
  "language_info": {
   "codemirror_mode": {
    "name": "ipython",
    "version": 3
   },
   "file_extension": ".py",
   "mimetype": "text/x-python",
   "name": "python",
   "nbconvert_exporter": "python",
   "pygments_lexer": "ipython3",
   "version": "3.7.3"
  }
 },
 "nbformat": 4,
 "nbformat_minor": 5
}
